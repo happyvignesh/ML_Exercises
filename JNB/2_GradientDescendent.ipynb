{
 "cells": [
  {
   "cell_type": "code",
   "execution_count": 1,
   "id": "4a1efb17-e202-4cdc-a0aa-0eefe4264848",
   "metadata": {},
   "outputs": [],
   "source": [
    "import pandas as pd\n",
    "import numpy as np"
   ]
  },
  {
   "cell_type": "code",
   "execution_count": null,
   "id": "2365021a-0036-452c-bafb-79afc2f64d5c",
   "metadata": {},
   "outputs": [],
   "source": [
    "scores_df = pd.read_csv(r'..\\JNB_data\\test_scores.csv')"
   ]
  },
  {
   "cell_type": "code",
   "execution_count": null,
   "id": "d0064689-5ac4-422a-a7d4-4f06d8a58f69",
   "metadata": {},
   "outputs": [],
   "source": [
    "scores_df.head()"
   ]
  },
  {
   "cell_type": "code",
   "execution_count": null,
   "id": "3b5cb2c7-78f7-4bb9-bab4-70aeba6fa819",
   "metadata": {},
   "outputs": [],
   "source": [
    "X_train = pd.DataFrame(scores_df['math'])"
   ]
  },
  {
   "cell_type": "code",
   "execution_count": null,
   "id": "bc45b877-50dd-450e-a223-00cf6d7c3261",
   "metadata": {},
   "outputs": [],
   "source": [
    "type(X_train)"
   ]
  },
  {
   "cell_type": "code",
   "execution_count": null,
   "id": "5e4b8b64-f2a3-43ef-9a60-dda27dfe347b",
   "metadata": {},
   "outputs": [],
   "source": [
    "y_train = scores_df.cs"
   ]
  },
  {
   "cell_type": "code",
   "execution_count": null,
   "id": "9c79209e-cceb-4efd-8c8a-0f3086f911f9",
   "metadata": {},
   "outputs": [],
   "source": [
    "from sklearn.linear_model import LinearRegression"
   ]
  },
  {
   "cell_type": "code",
   "execution_count": null,
   "id": "e9a6333c-43f3-4443-a423-d4b027222873",
   "metadata": {},
   "outputs": [],
   "source": [
    "model = LinearRegression()\n",
    "model.fit(X_train, y_train)"
   ]
  },
  {
   "cell_type": "code",
   "execution_count": null,
   "id": "3d3c1e91-73ee-4c5c-ac30-e1248d8244ed",
   "metadata": {},
   "outputs": [],
   "source": [
    "model.predict([[50]])"
   ]
  },
  {
   "cell_type": "code",
   "execution_count": null,
   "id": "60205ab5-6b63-4ca1-bccf-8cf0c22a0156",
   "metadata": {},
   "outputs": [],
   "source": [
    "model.intercept_"
   ]
  },
  {
   "cell_type": "code",
   "execution_count": null,
   "id": "e3a4edff-79f3-4e3c-b352-59f20c6d0df9",
   "metadata": {},
   "outputs": [],
   "source": [
    "model.coef_"
   ]
  },
  {
   "cell_type": "code",
   "execution_count": null,
   "id": "5d6cfe5c-dc9c-4b24-ac1b-9bed0831627e",
   "metadata": {},
   "outputs": [],
   "source": [
    "import matplotlib.pyplot as plt"
   ]
  },
  {
   "cell_type": "code",
   "execution_count": 2,
   "id": "83b71f0e-9948-4852-8148-c8be7de77d16",
   "metadata": {},
   "outputs": [],
   "source": [
    "# our aim is reduce cost value so that we have best fit line which has accurate value of slope and intercept which can predict most accurate value possible.\n",
    "# linear regression internally does this for us\n",
    "# cost - cost(previous) should be 1e-20\n",
    "# to achieve 1e-20, we can change learning_rate and iterations"
   ]
  },
  {
   "cell_type": "code",
   "execution_count": null,
   "id": "780b6a86-6312-4db0-b3a3-779332074295",
   "metadata": {},
   "outputs": [],
   "source": [
    "import math\n",
    "%matplotlib inline\n",
    "def gradient_descent(x,y):\n",
    "    m_curr = b_curr = 0\n",
    "    iterations = 100\n",
    "    n = len(x)\n",
    "    learning_rate = 0.00002\n",
    "    cost_previous = 0.0\n",
    "    # plt.scatter(x,y,color='red',marker='+',linewidth=5)\n",
    "    for i in range(iterations):\n",
    "        y_predicted = m_curr * x + b_curr\n",
    "        plt.scatter(x,y_predicted,color='red',marker='*',linewidth=5)\n",
    "        cost = (1/n) * sum([val**2 for val in (y-y_predicted)])\n",
    "        md = -(2/n)*sum(x*(y-y_predicted))\n",
    "        bd = -(2/n)*sum(y-y_predicted)\n",
    "        m_curr = m_curr - learning_rate * md\n",
    "        b_curr = b_curr - learning_rate * bd\n",
    "        if math.isclose(cost, cost_previous, rel_tol=1e-20):\n",
    "            break\n",
    "        cost_previous = cost\n",
    "        print (\"m {}, b {}, cost {} iteration {}\".format(m_curr,b_curr,cost, i))"
   ]
  },
  {
   "cell_type": "code",
   "execution_count": null,
   "id": "d3c7bd0a-660a-419f-8062-a18ea57b7455",
   "metadata": {},
   "outputs": [],
   "source": []
  },
  {
   "cell_type": "code",
   "execution_count": null,
   "id": "72a2c438-c4f1-4e5b-b94d-d04a3f448bb0",
   "metadata": {},
   "outputs": [],
   "source": [
    "y = np.int64(y_train)\n",
    "x = np.int64(scores_df['math'])\n",
    "print(x)\n",
    "\n",
    "gradient_descent(x,y)"
   ]
  },
  {
   "cell_type": "code",
   "execution_count": null,
   "id": "b95de768-e0b9-4d2b-a183-fd6621847e06",
   "metadata": {},
   "outputs": [],
   "source": []
  },
  {
   "cell_type": "code",
   "execution_count": null,
   "id": "6111b269-6b2b-4b32-b9d0-84fba3c382cb",
   "metadata": {},
   "outputs": [],
   "source": []
  }
 ],
 "metadata": {
  "kernelspec": {
   "display_name": "Python 3 (ipykernel)",
   "language": "python",
   "name": "python3"
  },
  "language_info": {
   "codemirror_mode": {
    "name": "ipython",
    "version": 3
   },
   "file_extension": ".py",
   "mimetype": "text/x-python",
   "name": "python",
   "nbconvert_exporter": "python",
   "pygments_lexer": "ipython3",
   "version": "3.9.13"
  }
 },
 "nbformat": 4,
 "nbformat_minor": 5
}
