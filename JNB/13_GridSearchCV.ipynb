{
 "cells": [
  {
   "cell_type": "code",
   "execution_count": 1,
   "id": "e5111eae-8331-4497-8024-9fe290edceac",
   "metadata": {},
   "outputs": [],
   "source": [
    "from sklearn import svm\n",
    "from sklearn.ensemble import RandomForestClassifier\n",
    "from sklearn.linear_model import LogisticRegression\n",
    "from sklearn.naive_bayes import GaussianNB\n",
    "from sklearn.naive_bayes import MultinomialNB\n",
    "from sklearn.tree import DecisionTreeClassifier"
   ]
  },
  {
   "cell_type": "code",
   "execution_count": 2,
   "id": "2eba1eaf-0bbc-40f9-98fb-6d8b83f26962",
   "metadata": {},
   "outputs": [],
   "source": [
    "import pandas as pd"
   ]
  },
  {
   "cell_type": "code",
   "execution_count": 3,
   "id": "d256eff6-bc55-459e-817b-51bca248fc0e",
   "metadata": {},
   "outputs": [],
   "source": [
    "from sklearn.datasets import load_digits"
   ]
  },
  {
   "cell_type": "code",
   "execution_count": 4,
   "id": "591769ca-a667-4648-ba07-54d7fc16f19c",
   "metadata": {},
   "outputs": [],
   "source": [
    "digits = load_digits()"
   ]
  },
  {
   "cell_type": "code",
   "execution_count": 5,
   "id": "6c399831-6764-4ba9-8f72-24b47a1607a0",
   "metadata": {},
   "outputs": [
    {
     "data": {
      "text/plain": [
       "['DESCR', 'data', 'feature_names', 'frame', 'images', 'target', 'target_names']"
      ]
     },
     "execution_count": 5,
     "metadata": {},
     "output_type": "execute_result"
    }
   ],
   "source": [
    "dir(digits)"
   ]
  },
  {
   "cell_type": "code",
   "execution_count": 6,
   "id": "5aa01169-d751-4c91-8008-d3e7b2d7dc1b",
   "metadata": {},
   "outputs": [],
   "source": [
    "X = digits.data\n",
    "y = digits.target"
   ]
  },
  {
   "cell_type": "markdown",
   "id": "ca863575-a015-44f9-8855-9bb2eeadbbfb",
   "metadata": {},
   "source": [
    "Manual calculation"
   ]
  },
  {
   "cell_type": "code",
   "execution_count": null,
   "id": "deec923a-d146-44c6-ad57-d33597ebaf34",
   "metadata": {},
   "outputs": [],
   "source": [
    "import numpy as np\n",
    "from sklearn.model_selection import cross_val_score\n",
    "\n",
    "model_score_svm = cross_val_score(svm.SVC(kernel='linear',C=10,gamma='auto'),X,y, cv=5)\n",
    "model_score_rf = cross_val_score(RandomForestClassifier(),X,y, cv=5)\n",
    "\n",
    "# model_score_svm = cross_val_score(svm.SVC(kernel='linear',C=10,gamma='auto'),X,y, cv=10)\n",
    "\n",
    "# model_score_svm = cross_val_score(svm.SVC(kernel='linear',C=10,gamma='auto'),X,y, cv=10)\n",
    "\n",
    "# model_score_svm = cross_val_score(svm.SVC(kernel='linear',C=10,gamma='auto'),X,y, cv=10)\n",
    "\n",
    "print(np.average(model_score_svm))\n",
    "print(np.average(model_score_rf))"
   ]
  },
  {
   "cell_type": "code",
   "execution_count": null,
   "id": "a9e1e7c5-0208-4b40-a289-67baf40d949f",
   "metadata": {},
   "outputs": [],
   "source": []
  },
  {
   "cell_type": "code",
   "execution_count": 8,
   "id": "2efe7470-c59d-49c0-9ea0-36c9439a90f7",
   "metadata": {},
   "outputs": [],
   "source": [
    "d1 = {'svm_params' : {\n",
    "            'C': [1,10,20],\n",
    "            'kernel': ['rbf','linear']\n",
    "        }} "
   ]
  },
  {
   "cell_type": "code",
   "execution_count": 9,
   "id": "6c9c54ac-b639-482e-93a2-bae03264be79",
   "metadata": {},
   "outputs": [
    {
     "name": "stdout",
     "output_type": "stream",
     "text": [
      "1 rbf\n",
      "1 linear\n",
      "10 rbf\n",
      "10 linear\n",
      "20 rbf\n",
      "20 linear\n"
     ]
    }
   ],
   "source": [
    "import numpy as np\n",
    "m1 = []\n",
    "actual_params = {}\n",
    "for key, value in d1.items():\n",
    "    for k1,v1 in value.items():\n",
    "        actual_params[key + '_' + k1] = v1\n",
    "for c in actual_params['svm_params_C']:\n",
    "    for k in actual_params['svm_params_kernel']:\n",
    "        print(c,k)\n",
    "        model_score_svm = cross_val_score(svm.SVC(C=c, kernel=k),X,y, cv=5)\n",
    "        m1.append(np.average(model_score_svm))"
   ]
  },
  {
   "cell_type": "code",
   "execution_count": 10,
   "id": "0be3ce1f-d7e4-4090-b471-3734e4392b69",
   "metadata": {},
   "outputs": [
    {
     "data": {
      "text/plain": [
       "[0.9632838130609718,\n",
       " 0.9476973073351903,\n",
       " 0.9738502011761063,\n",
       " 0.9476973073351903,\n",
       " 0.9738502011761063,\n",
       " 0.9476973073351903]"
      ]
     },
     "execution_count": 10,
     "metadata": {},
     "output_type": "execute_result"
    }
   ],
   "source": [
    "m1"
   ]
  },
  {
   "cell_type": "markdown",
   "id": "02a04955-2ae2-4078-be8b-c87b93495d28",
   "metadata": {},
   "source": [
    "Using GridSearchCV"
   ]
  },
  {
   "cell_type": "code",
   "execution_count": null,
   "id": "af132b07-6fb8-4b77-8fe0-06c29f0191ab",
   "metadata": {},
   "outputs": [],
   "source": [
    "from sklearn.model_selection import GridSearchCV\n",
    "clf = GridSearchCV(svm.SVC(gamma='auto'), {\n",
    "    'C': [1,10,20],\n",
    "    'kernel': ['rbf','linear']\n",
    "}, cv=2, return_train_score=True)\n",
    "clf.fit(X, y)\n",
    "clf.cv_results_"
   ]
  },
  {
   "cell_type": "code",
   "execution_count": null,
   "id": "abe4ade6-ac4b-42e5-8fc8-ac7669f43a68",
   "metadata": {},
   "outputs": [],
   "source": []
  },
  {
   "cell_type": "code",
   "execution_count": null,
   "id": "b7033602-1cfd-4214-8356-fc2bd19fddcb",
   "metadata": {},
   "outputs": [],
   "source": [
    "#TODO"
   ]
  },
  {
   "cell_type": "code",
   "execution_count": 11,
   "id": "30cfd9de-6e49-4870-8c0a-bc0c75a23dbd",
   "metadata": {},
   "outputs": [],
   "source": [
    "model_details = {\n",
    "    'svm': {\n",
    "        'model': svm.SVC(gamma='auto'),\n",
    "        'params' : {\n",
    "            'C': 1, #[1,10,20],\n",
    "            'kernel': 'rbf', #'linear']\n",
    "        }  \n",
    "    },\n",
    "    'random_forest': {\n",
    "        'model': RandomForestClassifier(),\n",
    "        'params' : {\n",
    "            'n_estimators': [1,5,10]\n",
    "        }\n",
    "    },\n",
    "    'logistic_regression' : {\n",
    "        'model': LogisticRegression(solver='liblinear',multi_class='auto'),\n",
    "        'params': {\n",
    "            'C': [1,5,10]\n",
    "        }\n",
    "    }\n",
    "}"
   ]
  },
  {
   "cell_type": "code",
   "execution_count": null,
   "id": "a97729a0-e126-4969-8ed5-611ce1af60da",
   "metadata": {},
   "outputs": [],
   "source": []
  },
  {
   "cell_type": "code",
   "execution_count": 33,
   "id": "6a7311e0-506c-4f8e-9c7b-44d2314863e4",
   "metadata": {},
   "outputs": [
    {
     "name": "stdout",
     "output_type": "stream",
     "text": [
      "SVC(gamma='auto')\n",
      "[{'C': [1, 10, 20]}, {'kernel': ['rbf', 'linear']}]\n"
     ]
    }
   ],
   "source": [
    "# model_score_svm = cross_val_score(svm.SVC(kernel='linear',C=10,gamma='auto'),X,y, cv=10)\n",
    "for model_name, model_params in model_details.items():\n",
    "    #print(model_name, model_params)\n",
    "    #print(model_details[model_name])\n",
    "    print(model_details[model_name]['model'])\n",
    "    params_list = []\n",
    "    for key,value in model_details[model_name]['params'].items():\n",
    "        params_list.append({key:value})\n",
    "print(params_list)"
   ]
  },
  {
   "cell_type": "code",
   "execution_count": 34,
   "id": "682589a4-9490-4376-ba11-e0eb01af3508",
   "metadata": {},
   "outputs": [
    {
     "name": "stdout",
     "output_type": "stream",
     "text": [
      "{'C': [1, 10, 20]}\n",
      "{'kernel': ['rbf', 'linear']}\n"
     ]
    }
   ],
   "source": [
    "for j in params_list:\n",
    "    print(j)"
   ]
  },
  {
   "cell_type": "code",
   "execution_count": null,
   "id": "5eab3fad-f47d-40f9-9874-6f8cd46a8a5a",
   "metadata": {},
   "outputs": [],
   "source": []
  },
  {
   "cell_type": "code",
   "execution_count": null,
   "id": "c33d1175-315e-455d-af7d-5a6a8b48099e",
   "metadata": {},
   "outputs": [],
   "source": []
  }
 ],
 "metadata": {
  "kernelspec": {
   "display_name": "Python 3 (ipykernel)",
   "language": "python",
   "name": "python3"
  },
  "language_info": {
   "codemirror_mode": {
    "name": "ipython",
    "version": 3
   },
   "file_extension": ".py",
   "mimetype": "text/x-python",
   "name": "python",
   "nbconvert_exporter": "python",
   "pygments_lexer": "ipython3",
   "version": "3.9.13"
  }
 },
 "nbformat": 4,
 "nbformat_minor": 5
}
